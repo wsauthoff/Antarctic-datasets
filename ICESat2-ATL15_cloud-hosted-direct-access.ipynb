{
 "cells": [
  {
   "cell_type": "code",
   "execution_count": null,
   "id": "91190088-f4c2-4ef2-82da-a3df10a768ed",
   "metadata": {
    "tags": []
   },
   "outputs": [],
   "source": [
    "# Using earthaccess access patterns for direct access of cloud-hosted ICESat-2 ATL15 data\n",
    "# \n",
    "# Written 2023-11-14 by Wilson Sauthoff (wsauthoff.github.io)"
   ]
  },
  {
   "cell_type": "code",
   "execution_count": null,
   "id": "a9180feb-3cf1-4e58-bb3d-65b2307ac221",
   "metadata": {
    "tags": []
   },
   "outputs": [],
   "source": [
    "# Import libraries\n",
    "import earthaccess\n",
    "import matplotlib.pyplot as plt\n",
    "import os\n",
    "import xarray as xr"
   ]
  },
  {
   "cell_type": "code",
   "execution_count": null,
   "id": "633319cd-3cab-4b72-be93-c4ec19239b0e",
   "metadata": {
    "tags": []
   },
   "outputs": [],
   "source": [
    "# Log into NASA Earthdata to search for datasets\n",
    "earthaccess.login()"
   ]
  },
  {
   "cell_type": "code",
   "execution_count": null,
   "id": "8fbd2567-a6d0-4355-bede-8f58037d62f1",
   "metadata": {
    "tags": []
   },
   "outputs": [],
   "source": [
    "# Find ICESat-2 ATL15 data granules\n",
    "results = earthaccess.search_data(\n",
    "    short_name='ATL15',\n",
    "    version='003',\n",
    "    cloud_hosted=True,\n",
    "    bounding_box=(1, -89, -1, -89)  # (lower_left_lon, lower_left_lat , upper_right_lon, upper_right_lat))\n",
    ")"
   ]
  },
  {
   "cell_type": "code",
   "execution_count": null,
   "id": "5f99b26c-fe03-41e0-86f1-76b21806424c",
   "metadata": {
    "tags": []
   },
   "outputs": [],
   "source": [
    "# Open data granules as s3 files to stream\n",
    "files = earthaccess.open(results)\n",
    "files"
   ]
  },
  {
   "cell_type": "code",
   "execution_count": null,
   "id": "97db090f-4ee2-45f7-a12d-e938cbcce10d",
   "metadata": {
    "tags": []
   },
   "outputs": [],
   "source": [
    "# After viewing files, index the files you wish to open\n",
    "# Here we will view the highest resolution (1 km) files\n",
    "print(files[15])\n",
    "print(files[9])\n",
    "print(files[8])\n",
    "print(files[10])"
   ]
  },
  {
   "cell_type": "code",
   "execution_count": null,
   "id": "9dee33eb-d429-4a52-ae74-04a03bd4e7a2",
   "metadata": {
    "tags": []
   },
   "outputs": [],
   "source": [
    "# Open each file, which are quadrants in polar stereographic coordinations around the Geographic South Pole\n",
    "ATL15_A1 = xr.open_dataset(files[15], group='delta_h')\n",
    "ATL15_A2 = xr.open_dataset(files[9], group='delta_h')\n",
    "ATL15_A3 = xr.open_dataset(files[8], group='delta_h')\n",
    "ATL15_A4 = xr.open_dataset(files[10], group='delta_h')"
   ]
  },
  {
   "cell_type": "code",
   "execution_count": null,
   "id": "78d21fcb-d201-449e-977f-2b29240618c8",
   "metadata": {
    "tags": []
   },
   "outputs": [],
   "source": [
    "# Specify the variables to keep\n",
    "variables_to_keep = ['time', 'y', 'x', 'delta_h']\n",
    "\n",
    "# List of xarray datasets\n",
    "datasets = [ATL15_A1, ATL15_A2, ATL15_A3, ATL15_A4]\n",
    "\n",
    "# Function to drop variables not in variables_to_keep from a dataset\n",
    "def drop_unwanted_variables(dataset):\n",
    "    variables_to_drop = [var for var in dataset.variables if var not in variables_to_keep]\n",
    "    return dataset.drop_vars(variables_to_drop)\n",
    "\n",
    "# Apply the function to each dataset\n",
    "ATL15_A1, ATL15_A2, ATL15_A3, ATL15_A4 = [drop_unwanted_variables(ds) for ds in datasets]"
   ]
  },
  {
   "cell_type": "code",
   "execution_count": null,
   "id": "964e2d6e-bd27-45d3-a47e-2768a3a28e8e",
   "metadata": {
    "tags": []
   },
   "outputs": [],
   "source": [
    "# Examine data structure of one of the files\n",
    "ATL15_A1"
   ]
  },
  {
   "cell_type": "code",
   "execution_count": null,
   "id": "e9865ea0-daf5-4efd-bb10-9c9c0bf616a0",
   "metadata": {
    "tags": []
   },
   "outputs": [],
   "source": [
    "# Plot a visual of the first time slice\n",
    "ATL15_A1.delta_h[0,:,:].plot()\n",
    "plt.show()"
   ]
  },
  {
   "cell_type": "code",
   "execution_count": null,
   "id": "33eec198-a713-4b06-aa73-c176fba99642",
   "metadata": {
    "tags": []
   },
   "outputs": [],
   "source": [
    "# Use xarray concatenation to stitch two quadrants togethers\n",
    "# Use xarray index selecting to occlude the duplicated x=0 vector of data\n",
    "ATL15_A12 = xr.concat([ATL15_A2.isel(x=slice(0,-1)), ATL15_A1], dim=\"x\")"
   ]
  },
  {
   "cell_type": "code",
   "execution_count": null,
   "id": "6fc79aaf-f829-44ae-ab88-665d1da92210",
   "metadata": {
    "tags": []
   },
   "outputs": [],
   "source": [
    "# Plot a visual of the first time slice\n",
    "ATL15_A12.delta_h[0,:,:].plot()\n",
    "plt.show()"
   ]
  },
  {
   "cell_type": "code",
   "execution_count": null,
   "id": "6970832b-c132-4da0-b9c6-9753319f4747",
   "metadata": {
    "tags": []
   },
   "outputs": [],
   "source": [
    "# Use xarray concatenation to stitch two quadrants togethers\n",
    "# Use xarray index selecting to occlude the duplicated x=0 vector of data\n",
    "ATL15_A34 = xr.concat([ATL15_A3.isel(x=slice(0,-2)), ATL15_A4], dim=\"x\")"
   ]
  },
  {
   "cell_type": "code",
   "execution_count": null,
   "id": "57f4da76-9633-4b14-8c63-93995e7745d7",
   "metadata": {
    "tags": []
   },
   "outputs": [],
   "source": [
    "# Plot a visual of the first time slice\n",
    "ATL15_A34.delta_h[0,:,:].plot()\n",
    "plt.show()"
   ]
  },
  {
   "cell_type": "code",
   "execution_count": null,
   "id": "2c34e6f7-6d69-4b5d-8aab-709abfaf6914",
   "metadata": {
    "tags": []
   },
   "outputs": [],
   "source": [
    "# Use xarray concatenation to stitch two quadrants togethers\n",
    "# Use xarray index selecting to occlude the duplicated y=0 vector of data\n",
    "ATL15 = xr.concat([ATL15_A34.isel(y=slice(0,-1)), ATL15_A12], dim=(\"y\"))"
   ]
  },
  {
   "cell_type": "code",
   "execution_count": null,
   "id": "20270b30-3ca8-4628-a2ac-26f4428ac497",
   "metadata": {
    "tags": []
   },
   "outputs": [],
   "source": [
    "# Plot a visual of the first time slice\n",
    "ATL15.delta_h[0,:,:].plot()\n",
    "plt.show()"
   ]
  },
  {
   "cell_type": "code",
   "execution_count": null,
   "id": "32e9b9db-301d-47e6-a51d-ccda8446a2e1",
   "metadata": {
    "tags": []
   },
   "outputs": [],
   "source": [
    "# Delete variables to reduce memory consumption\n",
    "del ATL15_A1, ATL15_A12, ATL15_A2, ATL15_A3, ATL15_A34, ATL15_A4"
   ]
  },
  {
   "cell_type": "code",
   "execution_count": null,
   "id": "b964464a-ee8d-460d-b1cf-455d975a7701",
   "metadata": {},
   "outputs": [],
   "source": []
  }
 ],
 "metadata": {
  "kernelspec": {
   "display_name": "Python 3 (ipykernel)",
   "language": "python",
   "name": "python3"
  },
  "language_info": {
   "codemirror_mode": {
    "name": "ipython",
    "version": 3
   },
   "file_extension": ".py",
   "mimetype": "text/x-python",
   "name": "python",
   "nbconvert_exporter": "python",
   "pygments_lexer": "ipython3",
   "version": "3.10.12"
  }
 },
 "nbformat": 4,
 "nbformat_minor": 5
}
