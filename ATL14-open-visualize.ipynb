{
 "cells": [
  {
   "cell_type": "code",
   "execution_count": null,
   "metadata": {},
   "outputs": [],
   "source": [
    "import rioxarray"
   ]
  },
  {
   "cell_type": "code",
   "execution_count": null,
   "metadata": {},
   "outputs": [],
   "source": [
    "# define data directory (replace with your file path)\n",
    "data_dir = '/Volumes/Extreme SSD/data/'"
   ]
  },
  {
   "cell_type": "code",
   "execution_count": null,
   "metadata": {},
   "outputs": [],
   "source": [
    "# import ICESat-2 ATL15 Gridded Antarctic Land Ice Height data product \n",
    "# https://doi.org/10.5067/ATLAS/ATL15.001\n",
    "file = data_dir + '/altimetry/ICESat-2/ATL14.001-Ant/ATL14_AA_0311_100m_001_01.nc'\n",
    "ATL14_dh = rioxarray.open_rasterio(file, masked=True)\n",
    "ATL14_dh = ATL14_dh[0]\n",
    "ATL14_dh"
   ]
  },
  {
   "cell_type": "code",
   "execution_count": null,
   "metadata": {},
   "outputs": [],
   "source": [
    "# define F12 bounding box\n",
    "x_min = buffer.bounds.values[0,0]\n",
    "x_max = buffer.bounds.values[0,2]\n",
    "y_min = buffer.bounds.values[0,1]\n",
    "y_max = buffer.bounds.values[0,3]"
   ]
  },
  {
   "cell_type": "code",
   "execution_count": null,
   "metadata": {},
   "outputs": [],
   "source": [
    "# clip datasets to region of interest\n",
    "mask_x = (ATL14_dh.x >= x_min) & (ATL14_dh.x <= x_max)\n",
    "mask_y = (ATL14_dh.y >= y_min) & (ATL14_dh.y <= y_max)\n",
    "ATL14_dh_sub = ATL14_dh.where(mask_x & mask_y, drop=True)"
   ]
  }
 ],
 "metadata": {
  "language_info": {
   "name": "python"
  },
  "orig_nbformat": 4
 },
 "nbformat": 4,
 "nbformat_minor": 2
}
