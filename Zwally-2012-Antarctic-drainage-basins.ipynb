{
 "cells": [
  {
   "cell_type": "code",
   "execution_count": 1,
   "metadata": {},
   "outputs": [],
   "source": [
    "# notebook info"
   ]
  },
  {
   "cell_type": "code",
   "execution_count": 2,
   "metadata": {},
   "outputs": [],
   "source": [
    "# import packages"
   ]
  },
  {
   "cell_type": "code",
   "execution_count": 3,
   "metadata": {},
   "outputs": [],
   "source": [
    "# define data and script directory (replace with your data directory file path) and file path\n",
    "data_dir = '/Volumes/Extreme SSD/data'\n",
    "script_dir = '/Users/Wilson/Documents/0-code/scripts'"
   ]
  },
  {
   "cell_type": "code",
   "execution_count": null,
   "metadata": {},
   "outputs": [],
   "source": [
    "basins = pd.read_csv(data_dir + 'drainage-basins/Zwally-2012/grounded-basins.txt', sep=\"\\s+\", skiprows = 7, header = None, engine='python')\n",
    "basins.columns = ['lat', 'lon', 'basinid']\n",
    "\n",
    "basins['x'],basins['y'] = ll2ps(basins['lon'],basins['lat'])\n",
    "basin1 = basins[basins['basinid']==1]\n",
    "basin2 = basins[basins['basinid']==2]\n",
    "basin3 = basins[basins['basinid']==3]\n",
    "\n",
    "crs_xy = h5f.attrs.get('proj_crs') # get projection from file\n",
    "\n",
    "outline_geometries = [] # make empty list to store polygons\n",
    "\n",
    "outline_x = basin1['x'][:]\n",
    "outline_y = basin1['y'][:]\n",
    "outlines_xy = np.stack((outline_x, outline_y),axis=1)\n",
    "geometry = Polygon(outlines_xy)\n",
    "outline_geometries.append(geometry)\n",
    "\n",
    "outline_x = basin2['x'][:]\n",
    "outline_y = basin2['y'][:]\n",
    "outlines_xy = np.stack((outline_x, outline_y),axis=1)\n",
    "geometry = Polygon(outlines_xy)\n",
    "outline_geometries.append(geometry)\n",
    "\n",
    "outline_x = basin3['x'][:]\n",
    "outline_y = basin3['y'][:]\n",
    "outlines_xy = np.stack((outline_x, outline_y),axis=1)\n",
    "geometry = Polygon(outlines_xy)\n",
    "outline_geometries.append(geometry)\n",
    "\n",
    "df = pd.DataFrame(zip([basin1,basin2,basin3], outline_geometries), \n",
    "                  columns=['name', 'geometry'])\n",
    "basins_gdf = gpd.GeoDataFrame(df, crs=crs_xy, geometry=outline_geometries)\n",
    "basins_gdf.boundary.plot()\n",
    "plt.show()"
   ]
  }
 ],
 "metadata": {
  "kernelspec": {
   "display_name": "Python 3.9.13 64-bit",
   "language": "python",
   "name": "python3"
  },
  "language_info": {
   "codemirror_mode": {
    "name": "ipython",
    "version": 3
   },
   "file_extension": ".py",
   "mimetype": "text/x-python",
   "name": "python",
   "nbconvert_exporter": "python",
   "pygments_lexer": "ipython3",
   "version": "3.9.13"
  },
  "orig_nbformat": 4,
  "vscode": {
   "interpreter": {
    "hash": "aee8b7b246df8f9039afb4144a1f6fd8d2ca17a180786b69acc140d282b71a49"
   }
  }
 },
 "nbformat": 4,
 "nbformat_minor": 2
}
