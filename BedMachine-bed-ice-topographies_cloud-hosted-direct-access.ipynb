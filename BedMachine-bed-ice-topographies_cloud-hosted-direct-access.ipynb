{
 "cells": [
  {
   "cell_type": "code",
   "execution_count": null,
   "id": "8e457b4f-9cbc-4612-a7d2-7dd5cb7a860e",
   "metadata": {},
   "outputs": [],
   "source": [
    "# Using earthaccess access pattern for direct access \"streaming\" of cloud-hosted \n",
    "# MEaSUREs Phase-Based Antarctica Ice Velocity Map, Version 1\n",
    "# \n",
    "# Code  written to run on CryoCloud cloud-computing JupyterHub\n",
    "# Learn more: https://cryointhecloud.com/\n",
    "# \n",
    "# Written 2023-11-15 by Wilson Sauthoff (wsauthoff.github.io)"
   ]
  },
  {
   "cell_type": "code",
   "execution_count": null,
   "id": "eb60019f-1b9b-4553-a4cd-4503ea7daf23",
   "metadata": {
    "tags": []
   },
   "outputs": [],
   "source": [
    "# Import libraries\n",
    "import earthaccess\n",
    "import matplotlib.pyplot as plt\n",
    "from matplotlib.colors import LogNorm\n",
    "from mpl_toolkits.axes_grid1 import make_axes_locatable\n",
    "import os\n",
    "import xarray as xr"
   ]
  },
  {
   "cell_type": "code",
   "execution_count": null,
   "id": "0fd2b87e-1971-4c70-ad29-419827ac019c",
   "metadata": {
    "tags": []
   },
   "outputs": [],
   "source": [
    "# Log into NASA Earthdata to search for datasets\n",
    "earthaccess.login()"
   ]
  },
  {
   "cell_type": "code",
   "execution_count": null,
   "id": "ebf1d304-c292-4442-b193-358fdf49ec67",
   "metadata": {
    "tags": []
   },
   "outputs": [],
   "source": [
    "# Find cloud-hosted MEaSUREs Phase-Based Antarctica Ice Velocity Map, Version 1\n",
    "# DOI from https://nsidc.org/data/NSIDC-0754/versions/1\n",
    "results = earthaccess.search_data(\n",
    "    doi='10.5067/FPSU0V1MWUB6',\n",
    "    cloud_hosted=True,\n",
    "    bounding_box=(1, -89, -1, -89)  # (lower_left_lon, lower_left_lat , upper_right_lon, upper_right_lat))\n",
    ")"
   ]
  },
  {
   "cell_type": "code",
   "execution_count": null,
   "id": "515e41db-b5ce-48c0-83db-503b216b1521",
   "metadata": {
    "tags": []
   },
   "outputs": [],
   "source": [
    "# Open data granules as s3 files to stream\n",
    "files = earthaccess.open(results)\n",
    "files"
   ]
  },
  {
   "cell_type": "code",
   "execution_count": null,
   "id": "42319480-66b6-479e-9edc-8375cec851c9",
   "metadata": {
    "tags": []
   },
   "outputs": [],
   "source": [
    "# Print file name to ensure expected dataset\n",
    "print(files[0])"
   ]
  },
  {
   "cell_type": "code",
   "execution_count": null,
   "id": "3cb42890-fac5-4ca6-a27c-8dc7494e255e",
   "metadata": {
    "tags": []
   },
   "outputs": [],
   "source": [
    "# Open each file, which are quadrants in polar stereographic coordinations around the Geographic South Pole\n",
    "bedmachine = xr.open_dataset(files[0])\n",
    "bedmachine"
   ]
  },
  {
   "cell_type": "code",
   "execution_count": null,
   "id": "8b2add97-31cb-490c-9c8c-f00cd90c5ecd",
   "metadata": {
    "tags": []
   },
   "outputs": [],
   "source": [
    "# Specify the variables to keep\n",
    "variables_to_keep = ['x', 'y', 'surface', 'thickness', 'bed']\n",
    "\n",
    "variables_to_drop = [var for var in bedmachine.variables if var not in variables_to_keep]\n",
    "\n",
    "# Drop variables to reduce memory consumption\n",
    "bedmachine = bedmachine.drop_vars(variables_to_drop)\n",
    "bedmachine"
   ]
  },
  {
   "cell_type": "code",
   "execution_count": null,
   "id": "3b7317fa-435c-45f4-bb13-4bb4d4483aa3",
   "metadata": {
    "tags": []
   },
   "outputs": [],
   "source": [
    "# Define bounding box of interest in polar stereographic coordinates\n",
    "# (here Slessor Glacier, East Antarctica)\n",
    "xmin=-600000\n",
    "ymin=870000\n",
    "xmax=-180000\n",
    "ymax=1290000\n",
    "\n",
    "# Subset BedMachine data within bounding box, assign to variable\n",
    "bedmachine_sub = bedmachine.where((bedmachine.x > xmin) & (bedmachine.x < xmax) & (bedmachine.y > ymin) & (bedmachine.y < ymax), drop=True)"
   ]
  },
  {
   "cell_type": "code",
   "execution_count": null,
   "id": "f7f3cb38-5336-442d-b0ce-e81b04dd6a00",
   "metadata": {
    "tags": []
   },
   "outputs": [],
   "source": [
    "# Visualize bed elevation \n",
    "fig, ax = plt.subplots(figsize=(5,5))\n",
    "m = ax.imshow(bedmachine['bed'],\n",
    "    extent=[bedmachine.x.min(), bedmachine.x.max(), bedmachine.y.min(), bedmachine.y.max()],\n",
    "    cmap='gist_earth')\n",
    "ax.set_xlabel('x [km]')\n",
    "ax.set_ylabel('y [km]')\n",
    "#TODO plotting along pixel values, but using axes limits plots nothing; remendy plotting issue\n",
    "ax.set_xlim(bedmachine.x.min(), bedmachine.x.max())\n",
    "ax.set_ylim(bedmachine.y.min(), bedmachine.y.max())\n",
    "divider = make_axes_locatable(ax)\n",
    "cax = divider.append_axes('right', size='5%', pad=0.2)\n",
    "cbar = fig.colorbar(mappable, cax=cax)\n",
    "cbar.set_label('bed elevation [m ASL]')\n",
    "plt.show()"
   ]
  }
 ],
 "metadata": {
  "kernelspec": {
   "display_name": "Python 3 (ipykernel)",
   "language": "python",
   "name": "python3"
  },
  "language_info": {
   "codemirror_mode": {
    "name": "ipython",
    "version": 3
   },
   "file_extension": ".py",
   "mimetype": "text/x-python",
   "name": "python",
   "nbconvert_exporter": "python",
   "pygments_lexer": "ipython3",
   "version": "3.10.12"
  },
  "vscode": {
   "interpreter": {
    "hash": "5038e8bb49eb1923c23fc273b1aa630416e586fa7c50462a6108d15c8378e95d"
   }
  }
 },
 "nbformat": 4,
 "nbformat_minor": 5
}
