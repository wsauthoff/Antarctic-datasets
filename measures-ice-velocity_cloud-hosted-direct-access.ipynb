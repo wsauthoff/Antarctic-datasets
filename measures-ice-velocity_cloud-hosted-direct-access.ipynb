{
 "cells": [
  {
   "cell_type": "code",
   "execution_count": null,
   "id": "7a3977ae-95aa-4112-894c-5f62045932b6",
   "metadata": {},
   "outputs": [],
   "source": [
    "# Using earthaccess access pattern for direct access \"streaming\" of cloud-hosted \n",
    "# MEaSUREs Phase-Based Antarctica Ice Velocity Map, Version 1\n",
    "# \n",
    "# Code written to run on CryoCloud cloud-computing JupyterHub\n",
    "# Learn more: https://cryointhecloud.com/\n",
    "# \n",
    "# Written 2023-11-15 by Wilson Sauthoff (wsauthoff.github.io)"
   ]
  },
  {
   "cell_type": "code",
   "execution_count": null,
   "id": "587cbad6-ac88-43c0-b213-e0d4cba21721",
   "metadata": {
    "tags": []
   },
   "outputs": [],
   "source": [
    "# Import libraries\n",
    "import earthaccess\n",
    "import matplotlib.pyplot as plt\n",
    "from matplotlib.colors import LogNorm\n",
    "from mpl_toolkits.axes_grid1 import make_axes_locatable\n",
    "import os\n",
    "import xarray as xr"
   ]
  },
  {
   "cell_type": "code",
   "execution_count": null,
   "id": "05a475bc-ece7-4d3b-8d25-abfb00d70d67",
   "metadata": {
    "tags": []
   },
   "outputs": [],
   "source": [
    "# Log into NASA Earthdata to search for datasets\n",
    "earthaccess.login()"
   ]
  },
  {
   "cell_type": "code",
   "execution_count": null,
   "id": "211cb76d-e22f-420c-b151-e7bf44093bf0",
   "metadata": {
    "tags": []
   },
   "outputs": [],
   "source": [
    "# Find cloud-hosted MEaSUREs Phase-Based Antarctica Ice Velocity Map, Version 1\n",
    "# DOI from https://nsidc.org/data/NSIDC-0754/versions/1\n",
    "results = earthaccess.search_data(\n",
    "    doi='10.5067/PZ3NJ5RXRH10',\n",
    "    cloud_hosted=True,\n",
    "    bounding_box=(1, -89, -1, -89)  # (lower_left_lon, lower_left_lat , upper_right_lon, upper_right_lat))\n",
    ")"
   ]
  },
  {
   "cell_type": "code",
   "execution_count": null,
   "id": "33d5bef3-5d5d-491c-8b25-1dc51e9a1c0b",
   "metadata": {
    "tags": []
   },
   "outputs": [],
   "source": [
    "# Open data granules as s3 files to stream\n",
    "files = earthaccess.open(results)\n",
    "files"
   ]
  },
  {
   "cell_type": "code",
   "execution_count": null,
   "id": "7d162554-77ef-4876-b9a8-e3927f14a26c",
   "metadata": {
    "tags": []
   },
   "outputs": [],
   "source": [
    "# Print file name to ensure expected dataset\n",
    "print(files[0])"
   ]
  },
  {
   "cell_type": "code",
   "execution_count": null,
   "id": "878aa90d-4b04-46ab-9b37-9e4fc3ce480e",
   "metadata": {
    "tags": []
   },
   "outputs": [],
   "source": [
    "# Open each file, which are quadrants in polar stereographic coordinations around the Geographic South Pole\n",
    "ice_vel = xr.open_dataset(files[0])\n",
    "ice_vel"
   ]
  },
  {
   "cell_type": "code",
   "execution_count": null,
   "id": "71b462f4-350f-4a63-a45f-7d06640cd7b3",
   "metadata": {
    "tags": []
   },
   "outputs": [],
   "source": [
    "# Specify the variables to keep\n",
    "variables_to_keep = ['x', 'y', 'VX', 'VY']\n",
    "\n",
    "variables_to_drop = [var for var in ice_vel.variables if var not in variables_to_keep]\n",
    "\n",
    "# Drop variables to reduce memory consumption\n",
    "ice_vel = ice_vel.drop_vars(variables_to_drop)\n",
    "ice_vel"
   ]
  },
  {
   "cell_type": "code",
   "execution_count": null,
   "id": "f2793c50",
   "metadata": {
    "tags": []
   },
   "outputs": [],
   "source": [
    "# Calculate velocity magnitude\n",
    "vel_mag = (ice_vel['VX']**2 + ice_vel['VY']**2)**0.5"
   ]
  },
  {
   "cell_type": "code",
   "execution_count": null,
   "id": "1131019f-a0d2-4525-82ff-f4cacdb9cf0e",
   "metadata": {
    "tags": []
   },
   "outputs": [],
   "source": [
    "# Follow example code to check calulated velocity seems reasonable \n",
    "# Test three drill sites from WISSARD and SALSA\n",
    "coords=[[-295743.804392, -502137.677718],\n",
    "       [-278502.862779,-561384.761658],\n",
    "       [-173785.999994,-590925.999998]]\n",
    "\n",
    "# Calculate the vector magnitude at the sample points and print the result\n",
    "for site in range(len(coords)):\n",
    "       print(vel_mag.sel(x=coords[site][0], y=coords[site][1], method=\"nearest\").values, 'm/yr')"
   ]
  },
  {
   "cell_type": "code",
   "execution_count": null,
   "id": "65234369-b41d-4b2c-bb69-52e76ace66be",
   "metadata": {
    "tags": []
   },
   "outputs": [],
   "source": [
    "# Plot velocity at continental scale\n",
    "fig, ax = plt.subplots(figsize=(5,5))\n",
    "mappable = ax.imshow(vel_mag,\n",
    "    extent=[vel_mag['x'].min()/1000, vel_mag['x'].max()/1000,\n",
    "            vel_mag['y'].min()/1000, vel_mag['y'].max()/1000],\n",
    "    norm=LogNorm(), cmap='magma')\n",
    "ax.set_xlabel('x [km]')\n",
    "ax.set_ylabel('y [km]')\n",
    "divider = make_axes_locatable(ax)\n",
    "cax = divider.append_axes('right', size='5%', pad=0.2)\n",
    "cbar = fig.colorbar(mappable, cax=cax)\n",
    "cbar.set_label('velocity [m/yr]')\n",
    "plt.show()"
   ]
  },
  {
   "cell_type": "code",
   "execution_count": null,
   "id": "f110c1f0-1f5b-4bb3-8252-0de3142d54b2",
   "metadata": {},
   "outputs": [],
   "source": []
  }
 ],
 "metadata": {
  "kernelspec": {
   "display_name": "Python 3 (ipykernel)",
   "language": "python",
   "name": "python3"
  },
  "language_info": {
   "codemirror_mode": {
    "name": "ipython",
    "version": 3
   },
   "file_extension": ".py",
   "mimetype": "text/x-python",
   "name": "python",
   "nbconvert_exporter": "python",
   "pygments_lexer": "ipython3",
   "version": "3.10.12"
  },
  "vscode": {
   "interpreter": {
    "hash": "5038e8bb49eb1923c23fc273b1aa630416e586fa7c50462a6108d15c8378e95d"
   }
  }
 },
 "nbformat": 4,
 "nbformat_minor": 5
}
